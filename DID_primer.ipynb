{
 "cells": [
  {
   "cell_type": "markdown",
   "metadata": {},
   "source": [
    "<h1>The Difference-In-Difference Estimator</h1>\n",
    "\n",
    "We will consider two groups before and after a policy change, with the __treatment group__ being affected by the policy, and the __control group__ being unaffected by the policy. Before the policy change we observe the treatment group value $y = B$, and after the policy is implemented the treatment group value is $y = C$. We can isolate the effect of the treatment by using a control group that is not affected by\n",
    "the policy change. Before the policy change, we observe the control group value $y = A$, and after the policy change, the control group value is $y = E$. In order to estimate the treatment effect using the four pieces of information contained in the points $A$, $B$, $C$, and $E$, we make the strong assumption that the two groups experience a __common trend__. In the figure below, the dashed line $BD$ represents what we imagine the treatment group growth would have been in the absence of the policy change. The growth described by the dashed line $BD$ is unobservable, and is obtained by assuming that the growth in the treatment group that is unrelated to the policy change is the same as the growth in the control group. The treatment effect d $CD$ is the difference between the treatment and control values of $y$ in the ‘‘after’’ period, after subtracting $DE$, which is what the difference between the two groups would have been in the absence of the policy. Using the common growth assumption, the difference $DE$ equals the initial difference $AB$. Using the four observable points $A$, $B$, $C$, and $E$ depicted in the figure below, estimation of the treatment effect is based on data averages for the two groups in the two periods."
   ]
  },
  {
   "cell_type": "markdown",
   "metadata": {},
   "source": [
    "$\\hat{\\delta} = ( \\hat{C} - \\hat{E} ) - ( \\hat{B} - \\hat{A} ) = ( \\hat{y}_{Treatment,After} - \\hat{y}_{Control,After}) - ( \\hat{y}_{Treatment,Before} - \\hat{y}_{Control,Before})$"
   ]
  },
  {
   "cell_type": "markdown",
   "metadata": {},
   "source": [
    "$\\bar{y}_{Control,Before} = \\hat{A} = $  sample mean of $y$ for control group before policy implementation.  \n",
    "\n",
    "$\\bar{y}_{Treatment,Before} = \\hat{B} = $  sample mean of $y$ for control group before policy implementation.  \n",
    "\n",
    "$\\bar{y}_{Control,After} = \\hat{E} = $  sample mean of $y$ for control group before policy implementation.  \n",
    "\n",
    "$\\bar{y}_{Treatment,After} = \\hat{C} = $  sample mean of $y$ for control group before policy implementation.\n",
    "\n"
   ]
  },
  {
   "cell_type": "markdown",
   "metadata": {},
   "source": [
    "The estimator $\\delta$ is called a __differences-in-differences (DID)__ estimator of the treatment effect.\n",
    "The estimator $\\delta$ can be conveniently calculated using a simple regression. Define $y_{it}$ to be the observed outcome for individual $i$ in period $t$. Let $AFTER_t$ be an indicator variable that equals one in the period after the policy change $(t = 2)$ and zero in the period before the policy change $(t = 1)$. Let $TREAT_i$ be a dummy variable that equals one if individual $i$ is in the treatment group and zero if the individual is in the control (non-treatment) group.\n",
    "Consider the regression model:"
   ]
  },
  {
   "cell_type": "markdown",
   "metadata": {},
   "source": [
    "$ y_{it} \\, = \\, \\beta_1 \\, + \\, \\beta_2 \\, TREAT_i \\, + \\, \\beta_3 \\, AFTER_t \\, + \\, \\delta \\; (TREAT_i \\times AFTER_t) \\, + \\, e_{it} $"
   ]
  },
  {
   "cell_type": "markdown",
   "metadata": {},
   "source": [
    "The regression function is:"
   ]
  },
  {
   "cell_type": "markdown",
   "metadata": {},
   "source": [
    "$\n",
    "\\begin{equation*}\n",
    " E(y_{it}) =\n",
    "    \\begin{cases}\n",
    "        \\beta_1                              & TREAT = 0 & AFTER = 0 & \\text{ Control before = A}\\\\\n",
    "        \\beta_1 + \\beta_2                    & TREAT = 1 & AFTER = 0 & \\text{ Control before = B}\\\\\n",
    "        \\beta_1 + \\beta_3                    & TREAT = 0 & AFTER = 1 & \\text{ Control before = E}\\\\\n",
    "        \\beta_1 + \\beta_2 + \\beta_3 + \\delta & TREAT = 1 & AFTER = 1 & \\text{ Control before = C}\n",
    "    \\end{cases}\n",
    "\\end{equation*}\n",
    "$"
   ]
  },
  {
   "cell_type": "markdown",
   "metadata": {},
   "source": [
    "<h3>Example: Implemmentation of Difference-In-Difference Estimator</h3>  \n",
    "\n",
    "On April 1, 1992, New Jersey’s minimum wage was increased from \\$ 4.25 to \\$ 5.05 per hour, while the minimum wage in Pennsylvania stayed at \\$ 4.25 per hour. Card and Krueger collected data on 410 fast food restaurants in New Jersey ( __the treatment group__ ) and eastern Pennsylvania ( __the control group__ ). The before period is February 1992, and the after period is November 1992. Using these data, they estimate\n",
    "the effect of the treatment, raising the New Jersey minimum wage on employment at fast food restaurants in New Jersey."
   ]
  },
  {
   "cell_type": "code",
   "execution_count": 1,
   "metadata": {},
   "outputs": [],
   "source": [
    "datafte <- as.data.frame(read.csv(file=\"./data/njmin3.csv\", header=TRUE, sep=\";\"))"
   ]
  },
  {
   "cell_type": "code",
   "execution_count": 2,
   "metadata": {},
   "outputs": [],
   "source": [
    "datafte$nj <- as.factor(datafte$nj)\n",
    "datafte$d <- as.factor(datafte$d)\n",
    "datafte$d_nj <- as.factor(datafte$d_nj)\n",
    "datafte$fte <- as.numeric(datafte$fte)"
   ]
  },
  {
   "cell_type": "code",
   "execution_count": 3,
   "metadata": {},
   "outputs": [],
   "source": [
    "didreg = lm(fte ~ nj + d + d_nj, data = datafte)"
   ]
  },
  {
   "cell_type": "markdown",
   "metadata": {},
   "source": [
    "The differences-in-differences regression is then:  \n",
    "$ y_{it} \\, = \\, \\beta_1 \\, + \\, \\beta_2 \\, NJ_i \\, + \\, \\beta_3 \\, D_t \\, + \\, \\delta \\; (NJ_i \\times D_t) \\, + \\, e_{it} $  \n",
    "the treatment variable is the indicator variable $NJ_i = 1$ if observation is from New Jersey, and $NJ_i = 0$ if from Pennsylvania.  \n",
    "The time indicator is $D_t = 1$ if the observation is from November and $D_t = 0$ if it is from February.\n"
   ]
  },
  {
   "cell_type": "code",
   "execution_count": 4,
   "metadata": {},
   "outputs": [
    {
     "data": {
      "text/plain": [
       "\n",
       "Call:\n",
       "lm(formula = fte ~ nj + d + d_nj, data = datafte)\n",
       "\n",
       "Residuals:\n",
       "    Min      1Q  Median      3Q     Max \n",
       "-48.481 -22.873  -4.689  16.311  76.987 \n",
       "\n",
       "Coefficients:\n",
       "            Estimate Std. Error t value Pr(>|t|)    \n",
       "(Intercept)   49.481      3.369  14.689   <2e-16 ***\n",
       "nj1           -7.608      3.749  -2.029   0.0428 *  \n",
       "d1            -9.468      4.764  -1.987   0.0472 *  \n",
       "d_nj1         11.284      5.302   2.128   0.0336 *  \n",
       "---\n",
       "Signif. codes:  0 '***' 0.001 '**' 0.01 '*' 0.05 '.' 0.1 ' ' 1\n",
       "\n",
       "Residual standard error: 29.94 on 816 degrees of freedom\n",
       "Multiple R-squared:  0.006222,\tAdjusted R-squared:  0.002568 \n",
       "F-statistic: 1.703 on 3 and 816 DF,  p-value: 0.1649\n"
      ]
     },
     "metadata": {},
     "output_type": "display_data"
    }
   ],
   "source": [
    "summary(didreg)"
   ]
  },
  {
   "cell_type": "markdown",
   "metadata": {},
   "source": [
    "The database (http://www.principlesofeconometrics.com/poe4/data/excel/njmin3.xlsx) delivers an interesting finding: the increase of the minimum wage delivers an increase in employment. In the model the estimate of the treatment effect $\\hat{\\delta} = 11.284 $ at the 5 \\% confidence level."
   ]
  },
  {
   "cell_type": "code",
   "execution_count": null,
   "metadata": {},
   "outputs": [],
   "source": []
  }
 ],
 "metadata": {
  "kernelspec": {
   "display_name": "R",
   "language": "R",
   "name": "ir"
  },
  "language_info": {
   "codemirror_mode": "r",
   "file_extension": ".r",
   "mimetype": "text/x-r-source",
   "name": "R",
   "pygments_lexer": "r",
   "version": "3.6.1"
  }
 },
 "nbformat": 4,
 "nbformat_minor": 4
}
