{
 "cells": [
  {
   "cell_type": "markdown",
   "metadata": {},
   "source": [
    "<h1>The Difference-In-Difference Estimator</h1>\n",
    "\n",
    "We will consider two groups before and after a policy change, with the __treatment group__ being affected by the policy, and the __control group__ being unaffected by the policy. . Before the policy change we observe the treatment group value $y = B$, and after the policy is implemented the treatment group value is $y = C$. We can isolate the effect of the treatment by using a control group that is not affected by\n",
    "the policy change. Before the policy change, we observe the control group value $y = A$, and after the policy change, the control group value is $y = E$."
   ]
  },
  {
   "cell_type": "markdown",
   "metadata": {},
   "source": [
    "$ y_{it} \\, = \\, \\beta_1 \\, + \\, \\beta_2 \\, TREAT_i \\, + \\, \\beta_3 \\, AFTER_t \\, + \\, \\delta \\; (TREAT_i \\times AFTER_t) \\, + \\, e_{it} $"
   ]
  },
  {
   "cell_type": "markdown",
   "metadata": {},
   "source": [
    "![title](./DID_image.png)"
   ]
  },
  {
   "cell_type": "code",
   "execution_count": 1,
   "metadata": {},
   "outputs": [],
   "source": [
    "library(foreign)"
   ]
  },
  {
   "cell_type": "code",
   "execution_count": 2,
   "metadata": {},
   "outputs": [],
   "source": [
    "mydata = read.dta(\"http://dss.princeton.edu/training/Panel101.dta\")"
   ]
  },
  {
   "cell_type": "code",
   "execution_count": 3,
   "metadata": {},
   "outputs": [],
   "source": [
    "mydata$after = ifelse(mydata$year >= 1994, 1, 0)"
   ]
  },
  {
   "cell_type": "code",
   "execution_count": 4,
   "metadata": {},
   "outputs": [],
   "source": [
    "mydata$treat = ifelse(mydata$country == \"E\" |\n",
    "mydata$country == \"F\" |\n",
    "mydata$country == \"G\", 1, 0)"
   ]
  },
  {
   "cell_type": "code",
   "execution_count": 5,
   "metadata": {},
   "outputs": [],
   "source": [
    "mydata$did = mydata$after * mydata$treat"
   ]
  },
  {
   "cell_type": "code",
   "execution_count": 6,
   "metadata": {},
   "outputs": [],
   "source": [
    "didreg = lm(y ~ treat + after + did, data = mydata)"
   ]
  },
  {
   "cell_type": "code",
   "execution_count": 7,
   "metadata": {},
   "outputs": [
    {
     "data": {
      "text/plain": [
       "\n",
       "Call:\n",
       "lm(formula = y ~ treat + after + did, data = mydata)\n",
       "\n",
       "Residuals:\n",
       "       Min         1Q     Median         3Q        Max \n",
       "-9.768e+09 -1.623e+09  1.167e+08  1.393e+09  6.807e+09 \n",
       "\n",
       "Coefficients:\n",
       "              Estimate Std. Error t value Pr(>|t|)  \n",
       "(Intercept)  3.581e+08  7.382e+08   0.485   0.6292  \n",
       "treat        1.776e+09  1.128e+09   1.575   0.1200  \n",
       "after        2.289e+09  9.530e+08   2.402   0.0191 *\n",
       "did         -2.520e+09  1.456e+09  -1.731   0.0882 .\n",
       "---\n",
       "Signif. codes:  0 '***' 0.001 '**' 0.01 '*' 0.05 '.' 0.1 ' ' 1\n",
       "\n",
       "Residual standard error: 2.953e+09 on 66 degrees of freedom\n",
       "Multiple R-squared:  0.08273,\tAdjusted R-squared:  0.04104 \n",
       "F-statistic: 1.984 on 3 and 66 DF,  p-value: 0.1249\n"
      ]
     },
     "metadata": {},
     "output_type": "display_data"
    }
   ],
   "source": [
    "summary(didreg)"
   ]
  }
 ],
 "metadata": {
  "kernelspec": {
   "display_name": "R",
   "language": "R",
   "name": "ir"
  },
  "language_info": {
   "codemirror_mode": "r",
   "file_extension": ".r",
   "mimetype": "text/x-r-source",
   "name": "R",
   "pygments_lexer": "r",
   "version": "3.6.1"
  }
 },
 "nbformat": 4,
 "nbformat_minor": 4
}
